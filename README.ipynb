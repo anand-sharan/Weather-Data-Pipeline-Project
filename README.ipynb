{
 "cells": [
  {
   "cell_type": "code",
   "execution_count": 1,
   "id": "676155cd-cc27-4c71-ba77-e3db57001537",
   "metadata": {},
   "outputs": [
    {
     "name": "stdout",
     "output_type": "stream",
     "text": [
      "Defaulting to user installation because normal site-packages is not writeable\n",
      "Collecting boto3\n",
      "  Downloading boto3-1.38.3-py3-none-any.whl.metadata (6.6 kB)\n",
      "Collecting botocore<1.39.0,>=1.38.3 (from boto3)\n",
      "  Downloading botocore-1.38.3-py3-none-any.whl.metadata (5.7 kB)\n",
      "Requirement already satisfied: jmespath<2.0.0,>=0.7.1 in c:\\programdata\\anaconda3\\lib\\site-packages (from boto3) (1.0.1)\n",
      "Collecting s3transfer<0.13.0,>=0.12.0 (from boto3)\n",
      "  Downloading s3transfer-0.12.0-py3-none-any.whl.metadata (1.7 kB)\n",
      "Requirement already satisfied: python-dateutil<3.0.0,>=2.1 in c:\\programdata\\anaconda3\\lib\\site-packages (from botocore<1.39.0,>=1.38.3->boto3) (2.9.0.post0)\n",
      "Requirement already satisfied: urllib3!=2.2.0,<3,>=1.25.4 in c:\\programdata\\anaconda3\\lib\\site-packages (from botocore<1.39.0,>=1.38.3->boto3) (2.3.0)\n",
      "Requirement already satisfied: six>=1.5 in c:\\programdata\\anaconda3\\lib\\site-packages (from python-dateutil<3.0.0,>=2.1->botocore<1.39.0,>=1.38.3->boto3) (1.16.0)\n",
      "Downloading boto3-1.38.3-py3-none-any.whl (139 kB)\n",
      "Downloading botocore-1.38.3-py3-none-any.whl (13.5 MB)\n",
      "   ---------------------------------------- 0.0/13.5 MB ? eta -:--:--\n",
      "   ------ --------------------------------- 2.4/13.5 MB 13.4 MB/s eta 0:00:01\n",
      "   ------------ --------------------------- 4.2/13.5 MB 11.0 MB/s eta 0:00:01\n",
      "   ----------------- ---------------------- 6.0/13.5 MB 9.5 MB/s eta 0:00:01\n",
      "   ------------------------- -------------- 8.7/13.5 MB 10.3 MB/s eta 0:00:01\n",
      "   ------------------------------- -------- 10.7/13.5 MB 10.3 MB/s eta 0:00:01\n",
      "   ---------------------------------------  13.4/13.5 MB 10.9 MB/s eta 0:00:01\n",
      "   ---------------------------------------- 13.5/13.5 MB 10.5 MB/s eta 0:00:00\n",
      "Downloading s3transfer-0.12.0-py3-none-any.whl (84 kB)\n",
      "Installing collected packages: botocore, s3transfer, boto3\n",
      "Successfully installed boto3-1.38.3 botocore-1.38.3 s3transfer-0.12.0\n"
     ]
    },
    {
     "name": "stderr",
     "output_type": "stream",
     "text": [
      "ERROR: pip's dependency resolver does not currently take into account all the packages that are installed. This behaviour is the source of the following dependency conflicts.\n",
      "aiobotocore 2.19.0 requires botocore<1.36.4,>=1.36.0, but you have botocore 1.38.3 which is incompatible.\n"
     ]
    }
   ],
   "source": [
    "!pip install boto3"
   ]
  },
  {
   "cell_type": "code",
   "execution_count": 3,
   "id": "f1700334-9b14-4f3c-b6e9-45c85bd6acd6",
   "metadata": {},
   "outputs": [
    {
     "name": "stdout",
     "output_type": "stream",
     "text": [
      "Found existing installation: botocore 1.38.3\n",
      "Uninstalling botocore-1.38.3:\n",
      "  Successfully uninstalled botocore-1.38.3\n",
      "Found existing installation: boto3 1.38.3\n",
      "Uninstalling boto3-1.38.3:\n",
      "  Successfully uninstalled boto3-1.38.3\n",
      "Found existing installation: s3transfer 0.12.0\n",
      "Uninstalling s3transfer-0.12.0:\n",
      "  Successfully uninstalled s3transfer-0.12.0\n"
     ]
    }
   ],
   "source": [
    "!pip uninstall botocore boto3 s3transfer -y\n",
    "\n"
   ]
  },
  {
   "cell_type": "code",
   "execution_count": 5,
   "id": "46b67e2e-f5fc-447b-92a7-3d08e30bba33",
   "metadata": {},
   "outputs": [
    {
     "name": "stdout",
     "output_type": "stream",
     "text": [
      "Defaulting to user installation because normal site-packages is not writeable\n",
      "Requirement already satisfied: botocore==1.36.3 in c:\\programdata\\anaconda3\\lib\\site-packages (1.36.3)\n",
      "Collecting boto3==1.33.3\n",
      "  Downloading boto3-1.33.3-py3-none-any.whl.metadata (6.7 kB)\n",
      "Collecting s3transfer==0.8.2\n",
      "  Downloading s3transfer-0.8.2-py3-none-any.whl.metadata (1.8 kB)\n",
      "Requirement already satisfied: jmespath<2.0.0,>=0.7.1 in c:\\programdata\\anaconda3\\lib\\site-packages (from botocore==1.36.3) (1.0.1)\n",
      "Requirement already satisfied: python-dateutil<3.0.0,>=2.1 in c:\\programdata\\anaconda3\\lib\\site-packages (from botocore==1.36.3) (2.9.0.post0)\n",
      "Requirement already satisfied: urllib3!=2.2.0,<3,>=1.25.4 in c:\\programdata\\anaconda3\\lib\\site-packages (from botocore==1.36.3) (2.3.0)\n",
      "INFO: pip is looking at multiple versions of boto3 to determine which version is compatible with other requirements. This could take a while.\n",
      "\n",
      "The conflict is caused by:\n",
      "    The user requested botocore==1.36.3\n",
      "    boto3 1.33.3 depends on botocore<1.34.0 and >=1.33.3\n",
      "\n",
      "To fix this you could try to:\n",
      "1. loosen the range of package versions you've specified\n",
      "2. remove package versions to allow pip to attempt to solve the dependency conflict\n",
      "\n"
     ]
    },
    {
     "name": "stderr",
     "output_type": "stream",
     "text": [
      "ERROR: Cannot install boto3==1.33.3 and botocore==1.36.3 because these package versions have conflicting dependencies.\n",
      "ERROR: ResolutionImpossible: for help visit https://pip.pypa.io/en/latest/topics/dependency-resolution/#dealing-with-dependency-conflicts\n"
     ]
    }
   ],
   "source": [
    "!pip install botocore==1.36.3 boto3==1.33.3 s3transfer==0.8.2"
   ]
  },
  {
   "cell_type": "code",
   "execution_count": null,
   "id": "c7020385-f3c7-4335-b90c-d0653660a6a9",
   "metadata": {},
   "outputs": [],
   "source": []
  }
 ],
 "metadata": {
  "kernelspec": {
   "display_name": "Python [conda env:base] *",
   "language": "python",
   "name": "conda-base-py"
  },
  "language_info": {
   "codemirror_mode": {
    "name": "ipython",
    "version": 3
   },
   "file_extension": ".py",
   "mimetype": "text/x-python",
   "name": "python",
   "nbconvert_exporter": "python",
   "pygments_lexer": "ipython3",
   "version": "3.12.9"
  }
 },
 "nbformat": 4,
 "nbformat_minor": 5
}
